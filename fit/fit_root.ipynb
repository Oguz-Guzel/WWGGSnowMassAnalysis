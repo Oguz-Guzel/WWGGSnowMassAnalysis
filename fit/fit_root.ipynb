{
 "cells": [
  {
   "cell_type": "markdown",
   "metadata": {},
   "source": [
    "# Combined Fit\n",
    "Combined (simultaneous) fit of two histogram with separate functions\n",
    "and some common parameters\n",
    "\n",
    "N.B. this macro must be compiled with ACliC"
   ]
  },
  {
   "cell_type": "code",
   "execution_count": 1,
   "metadata": {},
   "outputs": [],
   "source": [
    "%%cpp -d\n",
    "#include <Fit/Fitter.h>\n",
    "#include <Fit/BinData.h>\n",
    "#include <Fit/Chi2FCN.h>\n",
    "#include <TH1.h>\n",
    "#include <Math/WrappedMultiTF1.h>\n",
    "#include <HFitInterface.h>\n",
    "#include <TCanvas.h>\n",
    "#include <TStyle.h>"
   ]
  },
  {
   "cell_type": "markdown",
   "metadata": {},
   "source": [
    "Definition of shared parameter\n",
    " background function"
   ]
  },
  {
   "cell_type": "code",
   "execution_count": 2,
   "metadata": {},
   "outputs": [],
   "source": [
    "int iparB[2] = {\n",
    "   0, // exp amplitude in B histo\n",
    "   2  // exp common parameter\n",
    "};"
   ]
  },
  {
   "cell_type": "markdown",
   "metadata": {},
   "source": [
    "Signal + background function"
   ]
  },
  {
   "cell_type": "code",
   "execution_count": 3,
   "metadata": {},
   "outputs": [],
   "source": [
    "int iparSB[5] = {\n",
    "   1, // exp amplitude in S+B histo\n",
    "   2, // exp common parameter\n",
    "   3, // Gaussian amplitude\n",
    "   4, // Gaussian mean\n",
    "   5  // Gaussian sigma\n",
    "};"
   ]
  },
  {
   "cell_type": "markdown",
   "metadata": {},
   "source": [
    "Create the globalchi2 structure"
   ]
  },
  {
   "cell_type": "code",
   "execution_count": 4,
   "metadata": {},
   "outputs": [],
   "source": [
    "struct GlobalChi2 {\n",
    "   GlobalChi2(ROOT::Math::IMultiGenFunction &f1, ROOT::Math::IMultiGenFunction &f2) : fChi2_1(&f1), fChi2_2(&f2) {}\n",
    "\n",
    "   // parameter vector is first background (in common 1 and 2)\n",
    "   // and then is signal (only in 2)\n",
    "   double operator()(const double *par) const\n",
    "   {\n",
    "      double p1[2];\n",
    "      for (int i = 0; i < 2; ++i)\n",
    "         p1[i] = par[iparB[i]];\n",
    "\n",
    "      double p2[5];\n",
    "      for (int i = 0; i < 5; ++i)\n",
    "         p2[i] = par[iparSB[i]];\n",
    "\n",
    "      return (*fChi2_1)(p1) + (*fChi2_2)(p2);\n",
    "   }\n",
    "\n",
    "   const ROOT::Math::IMultiGenFunction *fChi2_1;\n",
    "   const ROOT::Math::IMultiGenFunction *fChi2_2;\n",
    "};"
   ]
  },
  {
   "cell_type": "markdown",
   "metadata": {},
   "source": [
    "Load the file & define histograms"
   ]
  },
  {
   "cell_type": "code",
   "execution_count": 5,
   "metadata": {},
   "outputs": [],
   "source": [
    "TFile *file = TFile::Open(\"../Inv_mass_gghasOneL_DNN_HL.root\");\n",
    "file->GetObject(\"Continuum_Bkg\",Continuum_Bkg);\n",
    "file->GetObject(\"GGHH\",GGHH);\n",
    "file->GetObject(\"GGH\",GGH);\n",
    "file->GetObject(\"VBFH\",VBFH);\n",
    "file->GetObject(\"VH\",VH);\n",
    "file->GetObject(\"ttH\",ttH);\n",
    "file->GetObject(\"tHq\",tHq);\n",
    "\n",
    "TH1D *hB = new TH1D(\"hB\", \"Cont. Bkg.\", 80, 100, 180);\n",
    "TH1D *hSH = new TH1D(\"hSH\", \"Single H\", 80, 100, 180);\n",
    "TH1D *hFB = new TH1D(\"hFB\", \"Full Bkg.\", 80, 100, 180);\n",
    "TH1D *hSB = new TH1D(\"hSB\", \"histo Signal + Full Bkg.\", 80, 100, 180);\n",
    "TH1D *hPD = new TH1D(\"hPD\", \"Pseudo-data\", 80, 100, 180);\n",
    "\n",
    "\n",
    "TF1 *fB = new TF1(\"fB\", \"expo\", 100, 180);\n",
    "fB->SetParameters(120, -0.03);\n",
    "\n",
    "hB->Add(Continuum_Bkg);\n",
    "hSH->Add(GGH);\n",
    "hSH->Add(VBFH);\n",
    "hSH->Add(VH);\n",
    "hSH->Add(ttH);\n",
    "hSH->Add(tHq);\n",
    "\n",
    "TH1D *hAll = new TH1D(\"hAll\", \"histo for pseudo data\", 80, 100, 180);\n",
    "hAll->Add(hB);\n",
    "hAll->Add(hSH);\n",
    "hAll->Add(GGHH);\n",
    "\n",
    "hSH->Scale(10);\n",
    "\n",
    "hFB->Add(hB);\n",
    "hFB->Add(hSH);\n",
    "\n",
    "hSB->Add(hFB);\n",
    "GGHH->Scale(1000);\n",
    "hSB->Add(GGHH);"
   ]
  },
  {
   "cell_type": "markdown",
   "metadata": {},
   "source": [
    "Perform now global fit"
   ]
  },
  {
   "cell_type": "code",
   "execution_count": 6,
   "metadata": {},
   "outputs": [],
   "source": [
    "TF1 *fSB = new TF1(\"fSB\", \"expo + gaus(2)\", 100, 180);\n",
    "fSB->SetParNames(\"Expo Amplitude\",\"Expo slope\", \"Gaus Amplitude\", \"Gaus Mean\", \"Gaus Sigma\");\n",
    "\n",
    "TF1 *fFB = new TF1(\"fFB\", \"expo + gaus(2)\", 100, 180);\n",
    "fFB->SetParNames(\"Expo Amplitude\",\"Expo slope\", \"Gaus Amplitude\", \"Gaus Mean\", \"Gaus Sigma\");\n",
    "\n",
    "TF1 *fAll = new TF1(\"fAll\", \"expo + gaus(2)\", 100, 180);\n",
    "\n",
    "ROOT::Math::WrappedMultiTF1 wfB(*fB, 1);\n",
    "ROOT::Math::WrappedMultiTF1 wfFB(*fFB, 1);\n",
    "ROOT::Math::WrappedMultiTF1 wfSB(*fSB, 1);\n",
    "ROOT::Math::WrappedMultiTF1 wfAll(*fAll, 1);"
   ]
  },
  {
   "cell_type": "markdown",
   "metadata": {},
   "source": [
    "Set the data range"
   ]
  },
  {
   "cell_type": "code",
   "execution_count": 7,
   "metadata": {},
   "outputs": [],
   "source": [
    "ROOT::Fit::DataOptions opt;\n",
    "ROOT::Fit::DataRange rangeB;\n",
    "rangeB.SetRange(100, 180);\n",
    "ROOT::Fit::BinData dataB(opt, rangeB);\n",
    "ROOT::Fit::FillData(dataB, hB);\n",
    "\n",
    "ROOT::Fit::DataRange rangeFB;\n",
    "rangeFB.SetRange(100, 180);\n",
    "ROOT::Fit::BinData dataFB(opt, rangeFB);\n",
    "ROOT::Fit::FillData(dataFB, hFB);\n",
    "\n",
    "ROOT::Fit::DataRange rangeSB;\n",
    "rangeSB.SetRange(100, 180);\n",
    "ROOT::Fit::BinData dataSB(opt, rangeSB);\n",
    "ROOT::Fit::FillData(dataSB, hSB);\n",
    "\n",
    "ROOT::Fit::DataRange rangeAll;\n",
    "rangeAll.SetRange(100, 180);\n",
    "ROOT::Fit::BinData dataAll(opt, rangeAll);\n",
    "ROOT::Fit::FillData(dataAll, hAll);\n",
    "\n",
    "ROOT::Fit::Chi2Function chi2_B(dataB, wfB);\n",
    "ROOT::Fit::Chi2Function chi2_FB(dataFB, wfFB);\n",
    "ROOT::Fit::Chi2Function chi2_SB(dataSB, wfSB);\n",
    "ROOT::Fit::Chi2Function chi2_All(dataAll, wfAll);\n",
    "\n",
    "GlobalChi2 globalChi2(chi2_B, chi2_SB);\n",
    "GlobalChi2 globalChi2FB(chi2_B, chi2_FB);\n",
    "GlobalChi2 globalChi2All(chi2_B, chi2_All);\n",
    "\n",
    "ROOT::Fit::Fitter fitterS;\n",
    "ROOT::Fit::Fitter fitterFB;\n",
    "ROOT::Fit::Fitter fitterAll;\n",
    "\n",
    "const int Npar = 6;\n",
    "double par0[Npar] = {5, 5, -0.1, 100, 125, 10};\n",
    "double par1[Npar] = {5, 5, -0.1, 100, 125, 2};"
   ]
  },
  {
   "cell_type": "markdown",
   "metadata": {},
   "source": [
    "Create before the parameter settings in order to fix or set range on them"
   ]
  },
  {
   "cell_type": "code",
   "execution_count": 8,
   "metadata": {},
   "outputs": [],
   "source": [
    "fitterS.Config().SetParamsSettings(6, par0);\n",
    "fitterFB.Config().SetParamsSettings(6, par1);\n",
    "fitterAll.Config().SetParamsSettings(6, par1);"
   ]
  },
  {
   "cell_type": "markdown",
   "metadata": {},
   "source": [
    "Fix 5-th parameter"
   ]
  },
  {
   "cell_type": "code",
   "execution_count": 9,
   "metadata": {},
   "outputs": [],
   "source": [
    "fitterS.Config().ParSettings(4).Fix();\n",
    "fitterFB.Config().ParSettings(4).Fix();\n",
    "fitterAll.Config().ParSettings(4).Fix();"
   ]
  },
  {
   "cell_type": "markdown",
   "metadata": {},
   "source": [
    "Set limits on the 3-rd and 4-th parameter"
   ]
  },
  {
   "cell_type": "code",
   "execution_count": 10,
   "metadata": {},
   "outputs": [],
   "source": [
    "fitterS.Config().ParSettings(2).SetLimits(-100, -1.E-6);\n",
    "fitterS.Config().ParSettings(3).SetLimits(0, 100000);\n",
    "fitterS.Config().ParSettings(3).SetStepSize(5);\n",
    "\n",
    "fitterS.Config().MinimizerOptions().SetPrintLevel(0);\n",
    "fitterS.Config().SetMinimizer(\"Minuit2\", \"Migrad\");\n",
    "\n",
    "fitterFB.Config().ParSettings(2).SetLimits(-100, -1.E-6);\n",
    "fitterFB.Config().ParSettings(3).SetLimits(0, 100000);\n",
    "fitterFB.Config().ParSettings(3).SetStepSize(5);\n",
    "\n",
    "fitterFB.Config().MinimizerOptions().SetPrintLevel(0);\n",
    "fitterFB.Config().SetMinimizer(\"Minuit2\", \"Migrad\");\n",
    "\n",
    "fitterAll.Config().ParSettings(2).SetLimits(-100, -1.E-6);\n",
    "fitterAll.Config().ParSettings(3).SetLimits(0, 100000);\n",
    "fitterAll.Config().ParSettings(3).SetStepSize(5);\n",
    "\n",
    "fitterAll.Config().MinimizerOptions().SetPrintLevel(0);\n",
    "fitterAll.Config().SetMinimizer(\"Minuit2\", \"Migrad\");"
   ]
  },
  {
   "cell_type": "markdown",
   "metadata": {},
   "source": [
    "Fit fcn function directly\n",
    " (specify optionally data size and flag to indicate that is a chi2 fit)"
   ]
  },
  {
   "cell_type": "code",
   "execution_count": 11,
   "metadata": {
    "scrolled": false
   },
   "outputs": [
    {
     "name": "stdout",
     "output_type": "stream",
     "text": [
      "\n",
      "****************************************\n",
      "Minimizer is Minuit2 / Migrad\n",
      "Chi2                      =      235.481\n",
      "NDf                       =          155\n",
      "Edm                       =  5.34293e-08\n",
      "NCalls                    =          679\n",
      "Par_0                     =      12.0504   +/-   0.111808    \n",
      "Par_1                     =      12.0533   +/-   0.113699    \n",
      "Par_2                     =   -0.0321422   +/-   0.000841678  \t (limited)\n",
      "Par_3                     =       2077.9   +/-   361.796      \t (limited)\n",
      "Par_4                     =          125                      \t (fixed)\n",
      "Par_5                     =      3.00499   +/-   0.64148     \n",
      "\n",
      "****************************************\n",
      "Minimizer is Minuit2 / Migrad\n",
      "Chi2                      =      234.971\n",
      "NDf                       =          155\n",
      "Edm                       =  1.43466e-08\n",
      "NCalls                    =          701\n",
      "Par_0                     =       12.051   +/-   0.111858    \n",
      "Par_1                     =      12.0533   +/-   0.113774    \n",
      "Par_2                     =   -0.0321476   +/-   0.000842125  \t (limited)\n",
      "Par_3                     =      1681.73   +/-   346.185      \t (limited)\n",
      "Par_4                     =          125                      \t (fixed)\n",
      "Par_5                     =     -3.13752   +/-   0.74879     \n"
     ]
    }
   ],
   "source": [
    "fitterS.FitFCN(6, globalChi2, 0, dataB.Size() + dataSB.Size(), true);\n",
    "ROOT::Fit::FitResult resultB = fitterS.Result();\n",
    "\n",
    "fitterFB.FitFCN(6, globalChi2FB, 0, dataB.Size() + dataFB.Size(), true);\n",
    "ROOT::Fit::FitResult resultFB = fitterFB.Result();\n",
    "\n",
    "fitterAll.FitFCN(6, globalChi2All, 0, dataB.Size() + dataAll.Size(), true);\n",
    "ROOT::Fit::FitResult resultAll = fitterAll.Result();\n",
    "\n",
    "resultB.Print(std::cout);\n",
    "resultFB.Print(std::cout);\n",
    "\n",
    "TCanvas *c1 = new TCanvas(\"Simfit\", \"Simultaneous fit of two histograms\", 800, 600);\n",
    "gStyle->SetOptFit(1111);"
   ]
  },
  {
   "cell_type": "markdown",
   "metadata": {},
   "source": [
    "Prepare to draw & add pseudo-data"
   ]
  },
  {
   "cell_type": "code",
   "execution_count": 12,
   "metadata": {},
   "outputs": [],
   "source": [
    "TH1D *h = new TH1D(\"h\", \"Signal+Bkg.\", 80, 100, 180);\n",
    "\n",
    "fB->SetFitResult(resultB, iparB);\n",
    "fB->SetRange(rangeB().first, rangeB().second);\n",
    "fB->SetLineColor(kBlue);\n",
    "fB->SetLineStyle(kDashed);\n",
    "h->GetListOfFunctions()->Add(fB);\n",
    "\n",
    "fFB->SetFitResult(resultFB, iparSB);\n",
    "fFB->SetRange(rangeFB().first, rangeFB().second);\n",
    "fFB->SetLineColor(kGreen);\n",
    "h->GetListOfFunctions()->Add(fFB);\n",
    "\n",
    "fSB->SetFitResult(resultB, iparSB);\n",
    "fSB->SetRange(rangeSB().first, rangeSB().second);\n",
    "fSB->SetLineColor(kRed);\n",
    "h->GetListOfFunctions()->Add(fSB);\n",
    "\n",
    "h->FillRandom(\"fAll\",fAll->Integral(100,180));"
   ]
  },
  {
   "cell_type": "markdown",
   "metadata": {},
   "source": [
    "Draw"
   ]
  },
  {
   "cell_type": "code",
   "execution_count": 13,
   "metadata": {
    "scrolled": false
   },
   "outputs": [
    {
     "data": {
      "image/png": "[encoded data removed]",
      "text/plain": [
       "<IPython.core.display.Image object>"
      ]
     },
     "metadata": {},
     "output_type": "display_data"
    }
   ],
   "source": [
    "h->SetTitle(\"Signal + Background\");\n",
    "h->GetXaxis()->SetTitle(\"m_{#gamma#gamma} [GeV]\");\n",
    "h->GetYaxis()->SetTitle(\"Events\");\n",
    "h->SetMarkerStyle(20);\n",
    "h->Draw(\"E1\");\n",
    "h->SetStats(0); //0 & 1 toggle statistics box\n",
    "\n",
    "auto legend = new TLegend(0.5,0.7,0.9,0.9);\n",
    "//legend->SetHeader(\"The Legend Title\",\"C\"); // option \"C\" allows to center the header\n",
    "legend->AddEntry(fB,\"Continuum Background\",\"l\");\n",
    "legend->AddEntry(fFB,\"Cont. Bkg. + Res. Bkg.x10\",\"l\");\n",
    "legend->AddEntry(fSB,\"Signal x1000 + Cont. Bkg. + Res. Bkg.x10\",\"l\");\n",
    "legend->AddEntry(h,\"Pseudo Data\",\"ep\");\n",
    "legend->Draw();\n",
    "\n",
    "c1->Draw();"
   ]
  },
  {
   "cell_type": "code",
   "execution_count": null,
   "metadata": {},
   "outputs": [],
   "source": []
  },
  {
   "cell_type": "code",
   "execution_count": null,
   "metadata": {
    "scrolled": false
   },
   "outputs": [],
   "source": []
  },
  {
   "cell_type": "code",
   "execution_count": null,
   "metadata": {},
   "outputs": [],
   "source": []
  },
  {
   "cell_type": "code",
   "execution_count": null,
   "metadata": {},
   "outputs": [],
   "source": []
  },
  {
   "cell_type": "code",
   "execution_count": null,
   "metadata": {},
   "outputs": [],
   "source": []
  },
  {
   "cell_type": "code",
   "execution_count": null,
   "metadata": {},
   "outputs": [],
   "source": []
  }
 ],
 "metadata": {
  "kernelspec": {
   "display_name": "ROOT C++",
   "language": "c++",
   "name": "root"
  },
  "language_info": {
   "codemirror_mode": "text/x-c++src",
   "file_extension": ".C",
   "mimetype": " text/x-c++src",
   "name": "c++"
  }
 },
 "nbformat": 4,
 "nbformat_minor": 2
}
